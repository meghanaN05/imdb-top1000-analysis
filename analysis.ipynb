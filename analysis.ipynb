{
 "cells": [
  {
   "cell_type": "code",
   "execution_count": 7,
   "id": "d4615604",
   "metadata": {},
   "outputs": [
    {
     "name": "stdout",
     "output_type": "stream",
     "text": [
      "Collecting numpy\n",
      "  Using cached numpy-2.3.4.tar.gz (20.6 MB)\n",
      "  Installing build dependencies: started\n",
      "  Installing build dependencies: finished with status 'done'\n",
      "  Getting requirements to build wheel: started\n",
      "  Getting requirements to build wheel: finished with status 'done'\n",
      "  Installing backend dependencies: started\n",
      "  Installing backend dependencies: finished with status 'error'\n"
     ]
    },
    {
     "name": "stderr",
     "output_type": "stream",
     "text": [
      "  error: subprocess-exited-with-error\n",
      "  \n",
      "  × pip subprocess to install backend dependencies did not run successfully.\n",
      "  │ exit code: 1\n",
      "  ╰─> [132 lines of output]\n",
      "      Collecting ninja>=1.8.2\n",
      "        Using cached ninja-1.13.0.tar.gz (242 kB)\n",
      "        Installing build dependencies: started\n",
      "        Installing build dependencies: finished with status 'done'\n",
      "        Getting requirements to build wheel: started\n",
      "        Getting requirements to build wheel: finished with status 'done'\n",
      "        Installing backend dependencies: started\n",
      "        Installing backend dependencies: finished with status 'error'\n",
      "        error: subprocess-exited-with-error\n",
      "      \n",
      "        Ã— pip subprocess to install backend dependencies did not run successfully.\n",
      "        â”‚ exit code: 1\n",
      "        â•°â”€> [109 lines of output]\n",
      "            Collecting setuptools-scm\n",
      "              Using cached setuptools_scm-9.2.2-py3-none-any.whl.metadata (7.7 kB)\n",
      "            Collecting cmake>=3.15\n",
      "              Using cached cmake-4.1.0.tar.gz (34 kB)\n",
      "              Installing build dependencies: started\n",
      "              Installing build dependencies: finished with status 'done'\n",
      "              Getting requirements to build wheel: started\n",
      "              Getting requirements to build wheel: finished with status 'done'\n",
      "              Preparing metadata (pyproject.toml): started\n",
      "              Preparing metadata (pyproject.toml): finished with status 'done'\n",
      "            Collecting hatch-fancy-pypi-readme>=22.3\n",
      "              Using cached hatch_fancy_pypi_readme-25.1.0-py3-none-any.whl.metadata (2.0 kB)\n",
      "            Collecting packaging>=20 (from setuptools-scm)\n",
      "              Using cached packaging-25.0-py3-none-any.whl.metadata (3.3 kB)\n",
      "            Collecting setuptools (from setuptools-scm)\n",
      "              Using cached setuptools-80.9.0-py3-none-any.whl.metadata (6.6 kB)\n",
      "            Collecting hatchling (from hatch-fancy-pypi-readme>=22.3)\n",
      "              Using cached hatchling-1.27.0-py3-none-any.whl.metadata (3.8 kB)\n",
      "            Collecting pathspec>=0.10.1 (from hatchling->hatch-fancy-pypi-readme>=22.3)\n",
      "              Using cached pathspec-0.12.1-py3-none-any.whl.metadata (21 kB)\n",
      "            Collecting pluggy>=1.0.0 (from hatchling->hatch-fancy-pypi-readme>=22.3)\n",
      "              Using cached pluggy-1.6.0-py3-none-any.whl.metadata (4.8 kB)\n",
      "            Collecting trove-classifiers (from hatchling->hatch-fancy-pypi-readme>=22.3)\n",
      "              Using cached trove_classifiers-2025.9.11.17-py3-none-any.whl.metadata (2.4 kB)\n",
      "            Using cached setuptools_scm-9.2.2-py3-none-any.whl (62 kB)\n",
      "            Using cached hatch_fancy_pypi_readme-25.1.0-py3-none-any.whl (10 kB)\n",
      "            Using cached packaging-25.0-py3-none-any.whl (66 kB)\n",
      "            Using cached hatchling-1.27.0-py3-none-any.whl (75 kB)\n",
      "            Using cached pathspec-0.12.1-py3-none-any.whl (31 kB)\n",
      "            Using cached pluggy-1.6.0-py3-none-any.whl (20 kB)\n",
      "            Using cached setuptools-80.9.0-py3-none-any.whl (1.2 MB)\n",
      "            Using cached trove_classifiers-2025.9.11.17-py3-none-any.whl (14 kB)\n",
      "            Building wheels for collected packages: cmake\n",
      "              Building wheel for cmake (pyproject.toml): started\n",
      "              Building wheel for cmake (pyproject.toml): finished with status 'error'\n",
      "              error: subprocess-exited-with-error\n",
      "      \n",
      "              Ãƒâ€” Building wheel for cmake (pyproject.toml) did not run successfully.\n",
      "              Ã¢â€\\x9dâ€š exit code: 1\n",
      "              Ã¢â€¢Â°Ã¢â€\\x9dâ‚¬> [60 lines of output]\n",
      "                  Traceback (most recent call last):\n",
      "                    File \"C:\\msys64\\mingw64\\lib\\python3.11\\urllib\\request.py\", line 1348, in do_open\n",
      "                      h.request(req.get_method(), req.selector, req.data, headers,\n",
      "                    File \"C:\\msys64\\mingw64\\lib\\python3.11\\http\\client.py\", line 1286, in request\n",
      "                      self._send_request(method, url, body, headers, encode_chunked)\n",
      "                    File \"C:\\msys64\\mingw64\\lib\\python3.11\\http\\client.py\", line 1332, in _send_request\n",
      "                      self.endheaders(body, encode_chunked=encode_chunked)\n",
      "                    File \"C:\\msys64\\mingw64\\lib\\python3.11\\http\\client.py\", line 1281, in endheaders\n",
      "                      self._send_output(message_body, encode_chunked=encode_chunked)\n",
      "                    File \"C:\\msys64\\mingw64\\lib\\python3.11\\http\\client.py\", line 1041, in _send_output\n",
      "                      self.send(msg)\n",
      "                    File \"C:\\msys64\\mingw64\\lib\\python3.11\\http\\client.py\", line 979, in send\n",
      "                      self.connect()\n",
      "                    File \"C:\\msys64\\mingw64\\lib\\python3.11\\http\\client.py\", line 1458, in connect\n",
      "                      self.sock = self._context.wrap_socket(self.sock,\n",
      "                                  ^^^^^^^^^^^^^^^^^^^^^^^^^^^^^^^^^^^^\n",
      "                    File \"C:\\msys64\\mingw64\\lib\\python3.11\\ssl.py\", line 517, in wrap_socket\n",
      "                      return self.sslsocket_class._create(\n",
      "                             ^^^^^^^^^^^^^^^^^^^^^^^^^^^^^\n",
      "                    File \"C:\\msys64\\mingw64\\lib\\python3.11\\ssl.py\", line 1108, in _create\n",
      "                      self.do_handshake()\n",
      "                    File \"C:\\msys64\\mingw64\\lib\\python3.11\\ssl.py\", line 1379, in do_handshake\n",
      "                      self._sslobj.do_handshake()\n",
      "                  ssl.SSLCertVerificationError: [SSL: CERTIFICATE_VERIFY_FAILED] certificate verify failed: unable to get local issuer certificate (_ssl.c:1006)\n",
      "      \n",
      "                  During handling of the above exception, another exception occurred:\n",
      "      \n",
      "                  Traceback (most recent call last):\n",
      "                    File \"C:\\msys64\\mingw64\\lib\\python3.11\\site-packages\\pip\\_vendor\\pyproject_hooks\\_in_process\\_in_process.py\", line 389, in <module>\n",
      "                      main()\n",
      "                    File \"C:\\msys64\\mingw64\\lib\\python3.11\\site-packages\\pip\\_vendor\\pyproject_hooks\\_in_process\\_in_process.py\", line 373, in main\n",
      "                      json_out[\"return_val\"] = hook(**hook_input[\"kwargs\"])\n",
      "                                               ^^^^^^^^^^^^^^^^^^^^^^^^^^^^\n",
      "                    File \"C:\\msys64\\mingw64\\lib\\python3.11\\site-packages\\pip\\_vendor\\pyproject_hooks\\_in_process\\_in_process.py\", line 280, in build_wheel\n",
      "                      return _build_backend().build_wheel(\n",
      "                             ^^^^^^^^^^^^^^^^^^^^^^^^^^^^^\n",
      "                    File \"C:\\Users\\megha\\AppData\\Local\\Temp\\pip-install-oqop7sbc\\cmake_cd190eb0c02c4dec85e29861ecb77c7e\\_build_backend\\backend.py\", line 156, in build_wheel\n",
      "                      cmake_path = _bootstrap_build(temp_path, config_settings)\n",
      "                                   ^^^^^^^^^^^^^^^^^^^^^^^^^^^^^^^^^^^^^^^^^^^^\n",
      "                    File \"C:\\Users\\megha\\AppData\\Local\\Temp\\pip-install-oqop7sbc\\cmake_cd190eb0c02c4dec85e29861ecb77c7e\\_build_backend\\backend.py\", line 103, in _bootstrap_build\n",
      "                      with urllib.request.urlopen(archive_url) as response:\n",
      "                           ^^^^^^^^^^^^^^^^^^^^^^^^^^^^^^^^^^^\n",
      "                    File \"C:\\msys64\\mingw64\\lib\\python3.11\\urllib\\request.py\", line 216, in urlopen\n",
      "                      return opener.open(url, data, timeout)\n",
      "                             ^^^^^^^^^^^^^^^^^^^^^^^^^^^^^^^\n",
      "                    File \"C:\\msys64\\mingw64\\lib\\python3.11\\urllib\\request.py\", line 519, in open\n",
      "                      response = self._open(req, data)\n",
      "                                 ^^^^^^^^^^^^^^^^^^^^^\n",
      "                    File \"C:\\msys64\\mingw64\\lib\\python3.11\\urllib\\request.py\", line 536, in _open\n",
      "                      result = self._call_chain(self.handle_open, protocol, protocol +\n",
      "                               ^^^^^^^^^^^^^^^^^^^^^^^^^^^^^^^^^^^^^^^^^^^^^^^^^^^^^^^\n",
      "                    File \"C:\\msys64\\mingw64\\lib\\python3.11\\urllib\\request.py\", line 496, in _call_chain\n",
      "                      result = func(*args)\n",
      "                               ^^^^^^^^^^^\n",
      "                    File \"C:\\msys64\\mingw64\\lib\\python3.11\\urllib\\request.py\", line 1391, in https_open\n",
      "                      return self.do_open(http.client.HTTPSConnection, req,\n",
      "                             ^^^^^^^^^^^^^^^^^^^^^^^^^^^^^^^^^^^^^^^^^^^^^^\n",
      "                    File \"C:\\msys64\\mingw64\\lib\\python3.11\\urllib\\request.py\", line 1351, in do_open\n",
      "                      raise URLError(err)\n",
      "                  urllib.error.URLError: <urlopen error [SSL: CERTIFICATE_VERIFY_FAILED] certificate verify failed: unable to get local issuer certificate (_ssl.c:1006)>\n",
      "                  [end of output]\n",
      "      \n",
      "              note: This error originates from a subprocess, and is likely not a problem with pip.\n",
      "              ERROR: Failed building wheel for cmake\n",
      "            Failed to build cmake\n",
      "            error: failed-wheel-build-for-install\n",
      "      \n",
      "            Ãƒâ€” Failed to build installable wheels for some pyproject.toml based projects\n",
      "            Ã¢â€¢Â°Ã¢â€\\x9dâ‚¬> cmake\n",
      "            [end of output]\n",
      "      \n",
      "        note: This error originates from a subprocess, and is likely not a problem with pip.\n",
      "      error: subprocess-exited-with-error\n",
      "      \n",
      "      Ã— pip subprocess to install backend dependencies did not run successfully.\n",
      "      â”‚ exit code: 1\n",
      "      â•°â”€> See above for output.\n",
      "      \n",
      "      note: This error originates from a subprocess, and is likely not a problem with pip.\n",
      "      [end of output]\n",
      "  \n",
      "  note: This error originates from a subprocess, and is likely not a problem with pip.\n",
      "error: subprocess-exited-with-error\n",
      "\n",
      "× pip subprocess to install backend dependencies did not run successfully.\n",
      "│ exit code: 1\n",
      "╰─> See above for output.\n",
      "\n",
      "note: This error originates from a subprocess, and is likely not a problem with pip.\n"
     ]
    }
   ],
   "source": [
    "!pip install numpy pandas matplotlib seaborn notebook\n"
   ]
  },
  {
   "cell_type": "code",
   "execution_count": 8,
   "id": "d3a343be",
   "metadata": {},
   "outputs": [
    {
     "ename": "ModuleNotFoundError",
     "evalue": "No module named 'numpy'",
     "output_type": "error",
     "traceback": [
      "\u001b[31m---------------------------------------------------------------------------\u001b[39m",
      "\u001b[31mModuleNotFoundError\u001b[39m                       Traceback (most recent call last)",
      "\u001b[36mCell\u001b[39m\u001b[36m \u001b[39m\u001b[32mIn[8]\u001b[39m\u001b[32m, line 1\u001b[39m\n\u001b[32m----> \u001b[39m\u001b[32m1\u001b[39m \u001b[38;5;28;01mimport\u001b[39;00m\u001b[38;5;250m \u001b[39m\u001b[34;01mnumpy\u001b[39;00m\u001b[38;5;250m \u001b[39m\u001b[38;5;28;01mas\u001b[39;00m\u001b[38;5;250m \u001b[39m\u001b[34;01mnp\u001b[39;00m\n\u001b[32m      2\u001b[39m \u001b[38;5;28;01mimport\u001b[39;00m\u001b[38;5;250m \u001b[39m\u001b[34;01mpandas\u001b[39;00m\u001b[38;5;250m \u001b[39m\u001b[38;5;28;01mas\u001b[39;00m\u001b[38;5;250m \u001b[39m\u001b[34;01mpd\u001b[39;00m\n\u001b[32m      3\u001b[39m \u001b[38;5;28;01mimport\u001b[39;00m\u001b[38;5;250m \u001b[39m\u001b[34;01mmatplotlib\u001b[39;00m\u001b[34;01m.\u001b[39;00m\u001b[34;01mpyplot\u001b[39;00m\u001b[38;5;250m \u001b[39m\u001b[38;5;28;01mas\u001b[39;00m\u001b[38;5;250m \u001b[39m\u001b[34;01mplt\u001b[39;00m\n",
      "\u001b[31mModuleNotFoundError\u001b[39m: No module named 'numpy'"
     ]
    }
   ],
   "source": [
    "import numpy as np\n",
    "import pandas as pd\n",
    "import matplotlib.pyplot as plt\n",
    "import seaborn as sns\n",
    "\n",
    "sns.set(style=\"whitegrid\") \n",
    "\n"
   ]
  },
  {
   "cell_type": "code",
   "execution_count": null,
   "id": "d63b1b46",
   "metadata": {},
   "outputs": [],
   "source": [
    "df = pd.read_csv(\"imdb_top_1000.csv\")\n",
    "df.head()\n"
   ]
  },
  {
   "cell_type": "code",
   "execution_count": null,
   "id": "1b881335",
   "metadata": {},
   "outputs": [],
   "source": [
    "df.info()\n",
    "df.isnull().sum()\n",
    "df.describe()\n"
   ]
  },
  {
   "cell_type": "code",
   "execution_count": null,
   "id": "68796639",
   "metadata": {},
   "outputs": [],
   "source": [
    "df['Genre'].fillna('Unknown', inplace=True)\n",
    "df['Director'].fillna('Unknown', inplace=True)\n",
    "df['IMDB_Rating'].fillna(df['IMDB_Rating'].mean(), inplace=True)\n"
   ]
  },
  {
   "cell_type": "code",
   "execution_count": null,
   "id": "d1af3034",
   "metadata": {},
   "outputs": [],
   "source": [
    "df['Released_Year'] = df['Released_Year'].astype(str).str.extract('(\\d{4})')\n",
    "df['Released_Year'] = df['Released_Year'].astype(float)\n"
   ]
  },
  {
   "cell_type": "code",
   "execution_count": null,
   "id": "5d2ebcd1",
   "metadata": {},
   "outputs": [],
   "source": [
    "df['Main_Genre'] = df['Genre'].str.split(',').str[0]\n"
   ]
  },
  {
   "cell_type": "code",
   "execution_count": null,
   "id": "a3bec8b8",
   "metadata": {},
   "outputs": [],
   "source": [
    "df.drop(['Poster_Link'], axis=1, inplace=True)\n"
   ]
  },
  {
   "cell_type": "code",
   "execution_count": null,
   "id": "623d096c",
   "metadata": {},
   "outputs": [],
   "source": [
    "genre_avg = df.groupby('Main_Genre')['IMDB_Rating'].mean().sort_values(ascending=False).head(10)\n",
    "plt.figure(figsize=(10,5))\n",
    "sns.barplot(x=genre_avg.values, y=genre_avg.index)\n",
    "plt.title('Top 10 Genres by Average IMDb Rating')\n",
    "plt.xlabel('Average Rating')\n",
    "plt.ylabel('Genre')\n",
    "plt.show()\n"
   ]
  },
  {
   "cell_type": "code",
   "execution_count": null,
   "id": "dfb6384b",
   "metadata": {},
   "outputs": [],
   "source": [
    "plt.figure(figsize=(10,5))\n",
    "sns.lineplot(data=df, x='Released_Year', y='IMDB_Rating', ci=None)\n",
    "plt.title('Trend of Movie Ratings Over the Years')\n",
    "plt.xlabel('Release Year')\n",
    "plt.ylabel('Average Rating')\n",
    "plt.show()\n"
   ]
  },
  {
   "cell_type": "code",
   "execution_count": null,
   "id": "18258f04",
   "metadata": {},
   "outputs": [],
   "source": [
    "top_directors = df['Director'].value_counts().head(10)\n",
    "plt.figure(figsize=(10,5))\n",
    "sns.barplot(x=top_directors.values, y=top_directors.index)\n",
    "plt.title('Top 10 Most Frequent Directors')\n",
    "plt.xlabel('Number of Movies')\n",
    "plt.ylabel('Director')\n",
    "plt.show()\n"
   ]
  },
  {
   "cell_type": "code",
   "execution_count": null,
   "id": "2a1baafc",
   "metadata": {},
   "outputs": [],
   "source": [
    "df.to_csv(\"cleaned_imdb.csv\", index=False)\n"
   ]
  }
 ],
 "metadata": {
  "kernelspec": {
   "display_name": ".venv",
   "language": "python",
   "name": "python3"
  },
  "language_info": {
   "codemirror_mode": {
    "name": "ipython",
    "version": 3
   },
   "file_extension": ".py",
   "mimetype": "text/x-python",
   "name": "python",
   "nbconvert_exporter": "python",
   "pygments_lexer": "ipython3",
   "version": "3.13.5"
  }
 },
 "nbformat": 4,
 "nbformat_minor": 5
}
